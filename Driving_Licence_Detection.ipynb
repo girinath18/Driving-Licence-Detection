{
  "cells": [
    {
      "cell_type": "code",
      "execution_count": null,
      "metadata": {
        "id": "kqRsFo8Ezcag"
      },
      "outputs": [],
      "source": [
        "!pip install kaggle"
      ]
    },
    {
      "cell_type": "code",
      "execution_count": 2,
      "metadata": {
        "id": "T5xvZLCwz7Wm"
      },
      "outputs": [],
      "source": [
        "#configurating the path of kaggle.json file\n",
        "!mkdir -p ~/.kaggle\n",
        "!cp kaggle.json ~/.kaggle/\n",
        "!chmod 600 ~/.kaggle/kaggle.json"
      ]
    },
    {
      "cell_type": "code",
      "execution_count": null,
      "metadata": {
        "id": "fE7pO9hn0IZG"
      },
      "outputs": [],
      "source": [
        "!kaggle datasets download -d girinathrs211555/driving-license-datasets"
      ]
    },
    {
      "cell_type": "code",
      "execution_count": null,
      "metadata": {
        "id": "ZZZc8-SE0Ps2"
      },
      "outputs": [],
      "source": [
        "# extrcing the compossed Dataset\n",
        "from zipfile import ZipFile\n",
        "dataset = '/content/driving-license-datasets.zip'\n",
        "\n",
        "with ZipFile(dataset,'r') as zip:\n",
        "  zip.extractall()\n",
        "  print('The dataset is extracted')"
      ]
    },
    {
      "cell_type": "markdown",
      "metadata": {
        "id": "59nF8XGZWpDm"
      },
      "source": [
        "# **Importing Dependencies**"
      ]
    },
    {
      "cell_type": "code",
      "execution_count": 5,
      "metadata": {
        "id": "cxHV1u6R1B-V"
      },
      "outputs": [],
      "source": [
        "import os\n",
        "import numpy as np\n",
        "import matplotlib.pyplot as plt\n",
        "import matplotlib.image as mpimg\n",
        "import cv2\n",
        "from google.colab.patches import cv2_imshow\n",
        "from PIL import Image\n",
        "from sklearn.model_selection import train_test_split"
      ]
    },
    {
      "cell_type": "code",
      "execution_count": null,
      "metadata": {
        "id": "YqOcM6zg1IuU"
      },
      "outputs": [],
      "source": [
        "Driving_Licence_files = os.listdir('/content/Driving licence datasets/DRL')\n",
        "print(Driving_Licence_files[0:5])\n",
        "\n",
        "print(Driving_Licence_files[-5:])"
      ]
    },
    {
      "cell_type": "code",
      "execution_count": null,
      "metadata": {
        "id": "L9GZwHVy1Y1F"
      },
      "outputs": [],
      "source": [
        "Not_Driving_Licence_files = os.listdir('/content/Driving licence datasets/NDRL')\n",
        "print(Not_Driving_Licence_files[0:5])\n",
        "\n",
        "print(Not_Driving_Licence_files[-5:])"
      ]
    },
    {
      "cell_type": "code",
      "execution_count": null,
      "metadata": {
        "id": "AxrLK0301p0q"
      },
      "outputs": [],
      "source": [
        "print('Number of with Driving_Licence_files:', len(Driving_Licence_files))\n",
        "print('Number of without Not_Driving_Licence_files:', len(Not_Driving_Licence_files))"
      ]
    },
    {
      "cell_type": "code",
      "execution_count": 9,
      "metadata": {
        "id": "ZpzkesDD15xd"
      },
      "outputs": [],
      "source": [
        "#create the labels\n",
        "\n",
        "Driving_Licence_labels = [1]*5500\n",
        "\n",
        "Not_Driving_Licence_labels = [0]*5500"
      ]
    },
    {
      "cell_type": "code",
      "execution_count": 10,
      "metadata": {
        "colab": {
          "base_uri": "https://localhost:8080/"
        },
        "id": "LwLixLna2Jnz",
        "outputId": "df64a604-7849-4331-b7c2-e6f230872f28"
      },
      "outputs": [
        {
          "output_type": "stream",
          "name": "stdout",
          "text": [
            "[1, 1, 1, 1, 1]\n",
            "[0, 0, 0, 0, 0]\n"
          ]
        }
      ],
      "source": [
        "# Checking wheather the labels are created as expected\n",
        "print(Driving_Licence_labels [0:5])\n",
        "\n",
        "print(Not_Driving_Licence_labels[0:5])"
      ]
    },
    {
      "cell_type": "code",
      "execution_count": 11,
      "metadata": {
        "colab": {
          "base_uri": "https://localhost:8080/"
        },
        "id": "RbJ0pp3vFQiz",
        "outputId": "c95da3b1-907a-4f12-e87a-c4c16070a228"
      },
      "outputs": [
        {
          "output_type": "stream",
          "name": "stdout",
          "text": [
            "5500\n",
            "5500\n"
          ]
        }
      ],
      "source": [
        "print(len(Driving_Licence_labels))\n",
        "print(len(Not_Driving_Licence_labels))"
      ]
    },
    {
      "cell_type": "code",
      "execution_count": null,
      "metadata": {
        "id": "TnTkWg0q2XBi"
      },
      "outputs": [],
      "source": [
        "# I am Concanating  the  two class as labels\n",
        "\n",
        "labels = Driving_Licence_labels + Not_Driving_Licence_labels\n",
        "\n",
        "print(len(labels))\n",
        "print(labels[0:5])\n",
        "print(labels[-5:])"
      ]
    },
    {
      "cell_type": "code",
      "execution_count": 13,
      "metadata": {
        "id": "VQ9uq2M02oMv"
      },
      "outputs": [],
      "source": [
        "# Convert images to numpy arrays\n",
        "\n",
        "Driving_Licence_path = '/content/Driving licence datasets/DRL/'\n",
        "\n",
        "data = []\n",
        "for img_file in Driving_Licence_files:\n",
        "\n",
        "  image = Image.open(Driving_Licence_path + img_file)\n",
        "  image = image.resize((128,128))\n",
        "  image = image.convert(\"RGB\")\n",
        "  image = np.array(image)\n",
        "  data.append(image)\n",
        "\n",
        "Not_Driving_Licence_path = '/content/Driving licence datasets/NDRL/'\n",
        "\n",
        "for img_file in Not_Driving_Licence_files:\n",
        "\n",
        "  image = Image.open(Not_Driving_Licence_path + img_file)\n",
        "  image = image.resize((128,128))\n",
        "  image = image.convert(\"RGB\")\n",
        "  image = np.array(image)\n",
        "  data.append(image)"
      ]
    },
    {
      "cell_type": "code",
      "execution_count": 14,
      "metadata": {
        "id": "JBQbVX6933XD"
      },
      "outputs": [],
      "source": [
        "# Coverting image list and the label list to numpy arrays\n",
        "\n",
        "X = np.array(data)\n",
        "Y = np.array(labels)"
      ]
    },
    {
      "cell_type": "code",
      "execution_count": null,
      "metadata": {
        "id": "kB8Zxh76393U"
      },
      "outputs": [],
      "source": [
        "type(X)"
      ]
    },
    {
      "cell_type": "code",
      "execution_count": null,
      "metadata": {
        "id": "_O8BT_3P3_bJ"
      },
      "outputs": [],
      "source": [
        "type(Y)"
      ]
    },
    {
      "cell_type": "code",
      "execution_count": null,
      "metadata": {
        "id": "nk7cu1Hd4ExA"
      },
      "outputs": [],
      "source": [
        "print(X.shape)\n",
        "print(Y.shape)"
      ]
    },
    {
      "cell_type": "code",
      "execution_count": 18,
      "metadata": {
        "colab": {
          "base_uri": "https://localhost:8080/"
        },
        "id": "zl0PHS6L4Gh_",
        "outputId": "41b0d6a1-f630-4ca4-f355-fafd8ae56f37"
      },
      "outputs": [
        {
          "output_type": "stream",
          "name": "stdout",
          "text": [
            "[1 1 1 ... 0 0 0]\n"
          ]
        }
      ],
      "source": [
        "print(Y)"
      ]
    },
    {
      "cell_type": "markdown",
      "metadata": {
        "id": "c2fMzisPH5qc"
      },
      "source": [
        "# **Train Test Split**"
      ]
    },
    {
      "cell_type": "code",
      "execution_count": 19,
      "metadata": {
        "id": "ZA-rSgws4LED"
      },
      "outputs": [],
      "source": [
        "X_train, X_test, Y_train, Y_test = train_test_split(X, Y, test_size=0.2, random_state=2)"
      ]
    },
    {
      "cell_type": "code",
      "execution_count": null,
      "metadata": {
        "id": "XC96AiGpInu4"
      },
      "outputs": [],
      "source": [
        "print(X.shape, X_train.shape, X_test.shape)"
      ]
    },
    {
      "cell_type": "code",
      "execution_count": 21,
      "metadata": {
        "id": "UFR4GNQ64ON1"
      },
      "outputs": [],
      "source": [
        "#Scaling the data\n",
        "\n",
        "X_train_scaled = X_train/255\n",
        "\n",
        "X_test_scaled = X_test/255"
      ]
    },
    {
      "cell_type": "markdown",
      "metadata": {
        "id": "AcJD3gr7JrQh"
      },
      "source": [
        "# **Building a Convolutional Neural Network(CNN)**"
      ]
    },
    {
      "cell_type": "code",
      "execution_count": 22,
      "metadata": {
        "id": "7qszGUdy4QWz"
      },
      "outputs": [],
      "source": [
        "import tensorflow as tf\n",
        "from tensorflow import keras"
      ]
    },
    {
      "cell_type": "code",
      "execution_count": 23,
      "metadata": {
        "id": "Qz9IO04P4W5I"
      },
      "outputs": [],
      "source": [
        "num_of_classes = 2\n",
        "\n",
        "model = keras.Sequential()\n",
        "\n",
        "model.add(keras.layers.Conv2D(35, kernel_size=(3, 3), activation='relu', input_shape=(128, 128, 3)))\n",
        "model.add(keras.layers.MaxPooling2D(pool_size=(2, 2)))\n",
        "\n",
        "model.add(keras.layers.Conv2D(75, kernel_size=(3, 3), activation='relu'))\n",
        "model.add(keras.layers.MaxPooling2D(pool_size=(2, 2)))\n",
        "\n",
        "model.add(keras.layers.Conv2D(100, kernel_size=(3, 3), activation='relu'))\n",
        "model.add(keras.layers.MaxPooling2D(pool_size=(2, 2)))\n",
        "\n",
        "\n",
        "model.add(keras.layers.Flatten())\n",
        "\n",
        "model.add(keras.layers.Dense(128, activation='relu'))\n",
        "model.add(keras.layers.Dropout(0.5))\n",
        "\n",
        "model.add(keras.layers.Dense(64, activation='relu'))\n",
        "model.add(keras.layers.Dropout(0.5))\n",
        "\n",
        "model.add(keras.layers.Dense(num_of_classes, activation='sigmoid'))\n"
      ]
    },
    {
      "cell_type": "code",
      "execution_count": 24,
      "metadata": {
        "id": "Fw_Y9mVM4ZS3"
      },
      "outputs": [],
      "source": [
        "# Compile the neural network\n",
        "\n",
        "model.compile(optimizer='adam',\n",
        "              loss='sparse_categorical_crossentropy',\n",
        "              metrics=['acc'])"
      ]
    },
    {
      "cell_type": "code",
      "execution_count": null,
      "metadata": {
        "id": "hXKbiepe4cw0"
      },
      "outputs": [],
      "source": [
        "#traing the neural network\n",
        "history = model.fit(X_train_scaled, Y_train, validation_split=0.2, epochs=10)"
      ]
    },
    {
      "cell_type": "code",
      "execution_count": null,
      "metadata": {
        "id": "trGQToS6500Z"
      },
      "outputs": [],
      "source": [
        "loss, accuracy = model.evaluate(X_test_scaled, Y_test)\n",
        "print('Test Accuracy=', accuracy)"
      ]
    },
    {
      "cell_type": "code",
      "execution_count": null,
      "metadata": {
        "id": "bIh0W5DF537n"
      },
      "outputs": [],
      "source": [
        "h = history\n",
        "\n",
        "#plot the loss value\n",
        "plt.plot(h.history['loss'], label='train loss')\n",
        "plt.plot(h.history['val_loss'], label='validation loss')\n",
        "plt.legend()\n",
        "plt.show()\n",
        "\n",
        "#plot the accuracy value\n",
        "plt.plot(h.history['acc'], label='train accuracy')\n",
        "plt.plot(h.history['val_acc'], label='validation accuracy')\n",
        "plt.legend()\n",
        "plt.show()"
      ]
    },
    {
      "cell_type": "code",
      "execution_count": null,
      "metadata": {
        "id": "OnDROmHJ7YVK"
      },
      "outputs": [],
      "source": [
        "input_image_path = input('Path of the image to be predicted: ')\n",
        "\n",
        "input_image = cv2.imread(input_image_path)\n",
        "\n",
        "cv2_imshow(input_image)\n",
        "\n",
        "input_image_resized = cv2.resize(input_image, (128, 128))\n",
        "\n",
        "input_image_scaled = input_image_resized/255\n",
        "\n",
        "input_image_reshaped = np.reshape(input_image_scaled, [1,128,128,3])\n",
        "\n",
        "input_prediction = model.predict(input_image_reshaped)\n",
        "\n",
        "print(input_prediction)\n",
        "\n",
        "input_pred_label = np.argmax(input_prediction)\n",
        "\n",
        "print(input_pred_label)\n",
        "\n",
        "if input_pred_label == 1:\n",
        "\n",
        "  print('This is an Driving Licence')\n",
        "\n",
        "else:\n",
        "\n",
        "  print('This is Not Driving Licence')"
      ]
    },
    {
      "cell_type": "code",
      "execution_count": null,
      "metadata": {
        "id": "uOVvB2bUKd9g"
      },
      "outputs": [],
      "source": [
        "#model.save('Dynamite.h5')"
      ]
    }
  ],
  "metadata": {
    "accelerator": "GPU",
    "colab": {
      "provenance": [],
      "gpuType": "T4"
    },
    "kernelspec": {
      "display_name": "Python 3",
      "name": "python3"
    },
    "language_info": {
      "name": "python"
    }
  },
  "nbformat": 4,
  "nbformat_minor": 0
}